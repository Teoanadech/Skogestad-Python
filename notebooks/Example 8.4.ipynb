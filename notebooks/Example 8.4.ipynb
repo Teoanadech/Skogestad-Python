{
 "cells": [
  {
   "cell_type": "code",
   "execution_count": 1,
   "metadata": {
    "collapsed": true
   },
   "outputs": [],
   "source": [
    "from sympy import *\n",
    "init_printing()"
   ]
  },
  {
   "cell_type": "code",
   "execution_count": 2,
   "metadata": {},
   "outputs": [],
   "source": [
    "W_P, W_I, G, I, K = var('W_P, W_I, G, I, K', commutative=False)"
   ]
  },
  {
   "cell_type": "code",
   "execution_count": 3,
   "metadata": {},
   "outputs": [],
   "source": [
    "P = Matrix([[0, 0, W_I],\n",
    "            [W_P*G, W_P, W_P*G],\n",
    "            [-G, -I, -G]])"
   ]
  },
  {
   "cell_type": "code",
   "execution_count": 4,
   "metadata": {},
   "outputs": [
    {
     "data": {
      "image/png": "[encoded data removed]",
      "text/latex": [
       "$$\\left[\\begin{matrix}0 & 0 & W_{I}\\\\W_{P} G & W_{P} & W_{P} G\\\\- G & - I & - G\\end{matrix}\\right]$$"
      ],
      "text/plain": [
       "⎡  0     0    W_I ⎤\n",
       "⎢                 ⎥\n",
       "⎢W_P⋅G  W_P  W_P⋅G⎥\n",
       "⎢                 ⎥\n",
       "⎣ -G    -I    -G  ⎦"
      ]
     },
     "execution_count": 4,
     "metadata": {},
     "output_type": "execute_result"
    }
   ],
   "source": [
    "P"
   ]
  },
  {
   "cell_type": "code",
   "execution_count": 5,
   "metadata": {},
   "outputs": [
    {
     "data": {
      "image/png": "[encoded data removed]",
      "text/latex": [
       "$$\\left[\\begin{matrix}0 & 0\\\\W_{P} G & W_{P}\\end{matrix}\\right]$$"
      ],
      "text/plain": [
       "⎡  0     0 ⎤\n",
       "⎢          ⎥\n",
       "⎣W_P⋅G  W_P⎦"
      ]
     },
     "execution_count": 5,
     "metadata": {},
     "output_type": "execute_result"
    }
   ],
   "source": [
    "P11 = P[:2, :2]\n",
    "P11"
   ]
  },
  {
   "cell_type": "code",
   "execution_count": 6,
   "metadata": {},
   "outputs": [
    {
     "data": {
      "image/png": "[encoded data removed]",
      "text/latex": [
       "$$\\left[\\begin{matrix}W_{I}\\\\W_{P} G\\end{matrix}\\right]$$"
      ],
      "text/plain": [
       "⎡ W_I ⎤\n",
       "⎢     ⎥\n",
       "⎣W_P⋅G⎦"
      ]
     },
     "execution_count": 6,
     "metadata": {},
     "output_type": "execute_result"
    }
   ],
   "source": [
    "P12 = P[:2,2:]\n",
    "P12"
   ]
  },
  {
   "cell_type": "code",
   "execution_count": 7,
   "metadata": {},
   "outputs": [
    {
     "data": {
      "image/png": "[encoded data removed]",
      "text/latex": [
       "$$\\left[\\begin{matrix}- G & - I\\end{matrix}\\right]$$"
      ],
      "text/plain": [
       "[-G  -I]"
      ]
     },
     "execution_count": 7,
     "metadata": {},
     "output_type": "execute_result"
    }
   ],
   "source": [
    "P21 = P[2:, :2]\n",
    "P21"
   ]
  },
  {
   "cell_type": "code",
   "execution_count": 8,
   "metadata": {},
   "outputs": [
    {
     "data": {
      "image/png": "[encoded data removed]",
      "text/latex": [
       "$$\\left[\\begin{matrix}- G\\end{matrix}\\right]$$"
      ],
      "text/plain": [
       "[-G]"
      ]
     },
     "execution_count": 8,
     "metadata": {},
     "output_type": "execute_result"
    }
   ],
   "source": [
    "P22 = P[2:,2:]\n",
    "P22"
   ]
  },
  {
   "cell_type": "code",
   "execution_count": 9,
   "metadata": {
    "collapsed": true
   },
   "outputs": [],
   "source": [
    "Im = Matrix([[I]])"
   ]
  },
  {
   "cell_type": "code",
   "execution_count": 10,
   "metadata": {},
   "outputs": [
    {
     "data": {
      "image/png": "[encoded data removed]",
      "text/latex": [
       "$$\\left[\\begin{matrix}\\left(- G K + I\\right)^{-1}\\end{matrix}\\right]$$"
      ],
      "text/plain": [
       "⎡          -1⎤\n",
       "⎣(-G⋅K + I)  ⎦"
      ]
     },
     "execution_count": 10,
     "metadata": {},
     "output_type": "execute_result"
    }
   ],
   "source": [
    "(Im + P22*K).inv()"
   ]
  },
  {
   "cell_type": "code",
   "execution_count": 11,
   "metadata": {},
   "outputs": [
    {
     "data": {
      "image/png": "[encoded data removed]",
      "text/latex": [
       "$$\\left[\\begin{matrix}- W_{I} K \\left(G K + I\\right)^{-1} G & - W_{I} K \\left(G K + I\\right)^{-1} I\\\\W_{P} G - W_{P} G K \\left(G K + I\\right)^{-1} G & W_{P} - W_{P} G K \\left(G K + I\\right)^{-1} I\\end{matrix}\\right]$$"
      ],
      "text/plain": [
       "⎡                    -1                            -1      ⎤\n",
       "⎢    -W_I⋅K⋅(G⋅K + I)  ⋅G          -W_I⋅K⋅(G⋅K + I)  ⋅I    ⎥\n",
       "⎢                                                          ⎥\n",
       "⎢                         -1                           -1  ⎥\n",
       "⎣W_P⋅G - W_P⋅G⋅K⋅(G⋅K + I)  ⋅G  W_P - W_P⋅G⋅K⋅(G⋅K + I)  ⋅I⎦"
      ]
     },
     "execution_count": 11,
     "metadata": {},
     "output_type": "execute_result"
    }
   ],
   "source": [
    "N = P11 + P12*K*(Im - P22*K).inv()*P21\n",
    "N"
   ]
  },
  {
   "cell_type": "code",
   "execution_count": null,
   "metadata": {
    "collapsed": true
   },
   "outputs": [],
   "source": []
  }
 ],
 "metadata": {
  "kernelspec": {
   "display_name": "Python 3",
   "language": "python",
   "name": "python3"
  },
  "language_info": {
   "codemirror_mode": {
    "name": "ipython",
    "version": 3
   },
   "file_extension": ".py",
   "mimetype": "text/x-python",
   "name": "python",
   "nbconvert_exporter": "python",
   "pygments_lexer": "ipython3",
   "version": "3.6.1"
  }
 },
 "nbformat": 4,
 "nbformat_minor": 1
}
